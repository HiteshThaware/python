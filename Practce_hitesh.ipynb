{
 "cells": [
  {
   "cell_type": "code",
   "execution_count": 17,
   "id": "ef57c93a-b165-4d51-a692-4ee0abe5f7e3",
   "metadata": {},
   "outputs": [],
   "source": [
    "txt = 'how r you'"
   ]
  },
  {
   "cell_type": "code",
   "execution_count": 53,
   "id": "692a02b6-5ef1-44e1-96e7-9417f97316a8",
   "metadata": {},
   "outputs": [
    {
     "name": "stdout",
     "output_type": "stream",
     "text": [
      "how r you\n"
     ]
    }
   ],
   "source": [
    "print(txt)"
   ]
  },
  {
   "cell_type": "code",
   "execution_count": 69,
   "id": "38098ab6-28b6-43c2-b06b-f5eb1fd90193",
   "metadata": {},
   "outputs": [],
   "source": [
    "x=txt.capitalize()"
   ]
  },
  {
   "cell_type": "code",
   "execution_count": 75,
   "id": "65616bfc-6066-4ec7-9659-3ae8ceaac046",
   "metadata": {},
   "outputs": [
    {
     "name": "stdout",
     "output_type": "stream",
     "text": [
      "how r you\n"
     ]
    }
   ],
   "source": [
    "print(x)"
   ]
  },
  {
   "cell_type": "code",
   "execution_count": 79,
   "id": "ae039cd5-7a2c-47cc-be4e-74e9237ade69",
   "metadata": {},
   "outputs": [],
   "source": [
    "txt1= 'I AM GOOD'"
   ]
  },
  {
   "cell_type": "code",
   "execution_count": 83,
   "id": "8b392747-422e-4048-a501-2bfc79615097",
   "metadata": {},
   "outputs": [
    {
     "name": "stdout",
     "output_type": "stream",
     "text": [
      "I AM GOOD\n"
     ]
    }
   ],
   "source": [
    "txt1.casefold()\n",
    "print (txt1)"
   ]
  },
  {
   "cell_type": "code",
   "execution_count": 101,
   "id": "540e9f39-3bfb-4925-9f37-d67cd096c653",
   "metadata": {},
   "outputs": [
    {
     "name": "stdout",
     "output_type": "stream",
     "text": [
      "i am good\n"
     ]
    }
   ],
   "source": [
    "f=txt1.casefold()\n",
    "print (f)"
   ]
  },
  {
   "cell_type": "code",
   "execution_count": 11,
   "id": "01d3b958-c34a-4b44-8ac1-42d88b2f572c",
   "metadata": {},
   "outputs": [
    {
     "name": "stdout",
     "output_type": "stream",
     "text": [
      "good to go\n"
     ]
    }
   ],
   "source": [
    "txt2='good to go'\n",
    "print (txt2)"
   ]
  },
  {
   "cell_type": "code",
   "execution_count": 23,
   "id": "62788f3e-2ab9-4c8c-bad3-ca5df19f7e3e",
   "metadata": {},
   "outputs": [
    {
     "name": "stdout",
     "output_type": "stream",
     "text": [
      "                         good to go                         \n"
     ]
    }
   ],
   "source": [
    "g=txt2.center(60)\n",
    "print (g)"
   ]
  },
  {
   "cell_type": "code",
   "execution_count": 25,
   "id": "b66f0c66-2a56-4f81-aa54-b01307a23f85",
   "metadata": {},
   "outputs": [
    {
     "name": "stdout",
     "output_type": "stream",
     "text": [
      "3\n"
     ]
    }
   ],
   "source": [
    "txt3 = \"I like apples, apple are my favorite fruit, apple are sweet\"\n",
    "\n",
    "j = txt3.count(\"apple\")\n",
    "\n",
    "print (j)"
   ]
  },
  {
   "cell_type": "code",
   "execution_count": 41,
   "id": "720d8586-3fe6-4033-a03f-39211dba51ef",
   "metadata": {},
   "outputs": [
    {
     "name": "stdout",
     "output_type": "stream",
     "text": [
      "b'My name is \\\\ua695\\\\u2071t\\\\ua4f1sh \\\\xe5'\n",
      "b'My name is tsh '\n",
      "b'My name is \\\\N{CYRILLIC SMALL LETTER HWE}\\\\N{SUPERSCRIPT LATIN SMALL LETTER I}t\\\\N{LISU LETTER EU}sh \\\\N{LATIN SMALL LETTER A WITH RING ABOVE}'\n",
      "b'My name is ??t?sh ?'\n",
      "b'My name is &#42645;&#8305;t&#42225;sh &#229;'\n"
     ]
    }
   ],
   "source": [
    "txt4 = \"My name is ꚕⁱtꓱsh å\"\n",
    "\n",
    "print(txt4.encode(encoding=\"ascii\",errors=\"backslashreplace\"))\n",
    "print(txt4.encode(encoding=\"ascii\",errors=\"ignore\"))\n",
    "print(txt4.encode(encoding=\"ascii\",errors=\"namereplace\"))\n",
    "print(txt4.encode(encoding=\"ascii\",errors=\"replace\"))\n",
    "print(txt4.encode(encoding=\"ascii\",errors=\"xmlcharrefreplace\"))"
   ]
  },
  {
   "cell_type": "code",
   "execution_count": 57,
   "id": "7789181f-2fb7-41c5-a758-32bc3b9d871a",
   "metadata": {},
   "outputs": [
    {
     "name": "stdout",
     "output_type": "stream",
     "text": [
      "1\n",
      "True\n"
     ]
    }
   ],
   "source": [
    "txt5 = \"Hello, welcome to the world of Jungle..\"\n",
    "\n",
    "l = txt5.endswith(\"..\")\n",
    "d=txt5.count(\"world\")\n",
    "print(d)\n",
    "print(l)"
   ]
  },
  {
   "cell_type": "code",
   "execution_count": 23,
   "id": "05287d87-bab2-4034-999e-1c83e37cb175",
   "metadata": {},
   "outputs": [
    {
     "name": "stdout",
     "output_type": "stream",
     "text": [
      "H        e        l        l        o\n"
     ]
    }
   ],
   "source": [
    "txt5 = \"H\\te\\tl\\tl\\to\"\n",
    "\n",
    "pn =  txt5.expandtabs(9)\n",
    "\n",
    "print(pn)\n"
   ]
  },
  {
   "cell_type": "code",
   "execution_count": 59,
   "id": "7e7f6fba-1448-4eb3-b669-80a0c83f2afa",
   "metadata": {},
   "outputs": [
    {
     "name": "stdout",
     "output_type": "stream",
     "text": [
      "22\n"
     ]
    }
   ],
   "source": [
    "jk = txt5.find(\"world\")\n",
    "\n",
    "print(jk)"
   ]
  },
  {
   "cell_type": "code",
   "execution_count": 81,
   "id": "22a56e1f-e831-48b9-adc6-670e0cb726f4",
   "metadata": {},
   "outputs": [
    {
     "name": "stdout",
     "output_type": "stream",
     "text": [
      "7\n"
     ]
    }
   ],
   "source": [
    "txt6 = \"Hello, welcome to my world.\"\n",
    "\n",
    "xn = txt6.find(\"welcome\")\n",
    "\n",
    "print(xn)"
   ]
  },
  {
   "cell_type": "code",
   "execution_count": 99,
   "id": "31257c04-abc6-4cb8-b158-89fa050a9def",
   "metadata": {},
   "outputs": [
    {
     "name": "stdout",
     "output_type": "stream",
     "text": [
      "For only 49.000 rupee!\n"
     ]
    }
   ],
   "source": [
    "txt7 = \"For only {price:.3f} rupee!\"\n",
    "print(txt7.format(price = 49))"
   ]
  },
  {
   "cell_type": "code",
   "execution_count": 113,
   "id": "42ddc948-d1a3-4721-8791-797bb0198e6e",
   "metadata": {},
   "outputs": [
    {
     "name": "stdout",
     "output_type": "stream",
     "text": [
      "7\n"
     ]
    }
   ],
   "source": [
    "txt7 = \"Hello, welcome to my world.\"\n",
    "\n",
    "qe = txt7.index(\"welcome\")\n",
    "\n",
    "print(qe)"
   ]
  },
  {
   "cell_type": "code",
   "execution_count": 137,
   "id": "bc87a2b2-b406-4bcb-ab5b-ebc776b669c7",
   "metadata": {},
   "outputs": [
    {
     "name": "stdout",
     "output_type": "stream",
     "text": [
      "False\n"
     ]
    }
   ],
   "source": [
    "txt8 = \"AMla@009\"\n",
    "\n",
    "pd = txt8.isalnum()\n",
    "\n",
    "print(pd)"
   ]
  },
  {
   "cell_type": "code",
   "execution_count": 143,
   "id": "c0c1896f-aed6-4c54-9c62-f1bd77ab9fee",
   "metadata": {},
   "outputs": [
    {
     "name": "stdout",
     "output_type": "stream",
     "text": [
      "True\n"
     ]
    }
   ],
   "source": [
    "txt9 = \"Nagpur\"\n",
    "\n",
    "py = txt9.isalpha()\n",
    "\n",
    "print(py)"
   ]
  },
  {
   "cell_type": "code",
   "execution_count": 173,
   "id": "1a47207f-42e9-4888-a17e-460a25ef75bf",
   "metadata": {},
   "outputs": [
    {
     "name": "stdout",
     "output_type": "stream",
     "text": [
      "False\n"
     ]
    }
   ],
   "source": [
    "txt10 = \"ⁱⱵⱠꓱꚕꚃsdf\"\n",
    "\n",
    "u = txt10.isascii()\n",
    "\n",
    "print(u)"
   ]
  },
  {
   "cell_type": "code",
   "execution_count": 181,
   "id": "648c3b1c-76a1-41a0-a282-7cf78e95a8b8",
   "metadata": {},
   "outputs": [
    {
     "name": "stdout",
     "output_type": "stream",
     "text": [
      "False\n"
     ]
    }
   ],
   "source": [
    "txt11 = \"234,43\"\n",
    "\n",
    "kk = txt11.isdecimal()\n",
    "\n",
    "print(kk)"
   ]
  },
  {
   "cell_type": "code",
   "execution_count": 179,
   "id": "46b4956c-fb39-47bb-b53f-6cdafd755947",
   "metadata": {},
   "outputs": [
    {
     "name": "stdout",
     "output_type": "stream",
     "text": [
      "False\n"
     ]
    }
   ],
   "source": [
    "txt11 = \"234.43\"\n",
    "\n",
    "lk = txt11.isdigit()\n",
    "\n",
    "print(lk)"
   ]
  },
  {
   "cell_type": "code",
   "execution_count": 189,
   "id": "808f6d6b-4a50-45e2-a73e-613482c5e1f4",
   "metadata": {},
   "outputs": [
    {
     "name": "stdout",
     "output_type": "stream",
     "text": [
      "True\n"
     ]
    }
   ],
   "source": [
    "txt12 = \"Demo\"\n",
    "\n",
    "kh = txt12.isidentifier()\n",
    "\n",
    "print(kh)"
   ]
  },
  {
   "cell_type": "code",
   "execution_count": 199,
   "id": "e71b3553-e9a2-4674-b74e-217f5f461057",
   "metadata": {},
   "outputs": [
    {
     "name": "stdout",
     "output_type": "stream",
     "text": [
      "True\n"
     ]
    }
   ],
   "source": [
    "txt13 = \"hello world!\"\n",
    "\n",
    "rt = txt13.islower()\n",
    "\n",
    "print(rt)"
   ]
  },
  {
   "cell_type": "code",
   "execution_count": 215,
   "id": "dcbacbea-b8de-4ce3-ba2f-cb9df06dc525",
   "metadata": {},
   "outputs": [
    {
     "name": "stdout",
     "output_type": "stream",
     "text": [
      "True\n"
     ]
    }
   ],
   "source": [
    "txt14 = \"877\"\n",
    "lk = txt14.isnumeric()\n",
    "print(lk)"
   ]
  },
  {
   "cell_type": "code",
   "execution_count": 219,
   "id": "702b16d2-65a3-4c1f-962f-899fa48f950d",
   "metadata": {},
   "outputs": [
    {
     "name": "stdout",
     "output_type": "stream",
     "text": [
      "True\n"
     ]
    }
   ],
   "source": [
    "txt15 = \"Hello! Are you #1?\"\n",
    "\n",
    "x1 = txt15.isprintable()\n",
    "\n",
    "print(x1)\n"
   ]
  },
  {
   "cell_type": "code",
   "execution_count": 235,
   "id": "947280ed-edc7-401c-bb35-bf7ec9a4a56f",
   "metadata": {},
   "outputs": [
    {
     "name": "stdout",
     "output_type": "stream",
     "text": [
      "True\n"
     ]
    }
   ],
   "source": [
    "txt16 = \"r09809e you\"\n",
    "\n",
    "x2 = txt16.islower()\n",
    "\n",
    "print(x2)"
   ]
  },
  {
   "cell_type": "code",
   "execution_count": 247,
   "id": "fb1cb6d8-d895-40c1-8cac-457dc09625f9",
   "metadata": {},
   "outputs": [
    {
     "name": "stdout",
     "output_type": "stream",
     "text": [
      "True\n"
     ]
    }
   ],
   "source": [
    "txt17 = \"9809\"\n",
    "\n",
    "xb = txt17.isnumeric()\n",
    "\n",
    "print(xb)"
   ]
  },
  {
   "cell_type": "code",
   "execution_count": 257,
   "id": "e93eb77f-3507-4991-a6f9-186b571c6b2e",
   "metadata": {},
   "outputs": [
    {
     "name": "stdout",
     "output_type": "stream",
     "text": [
      "True\n"
     ]
    }
   ],
   "source": [
    "txt18 = \"                \"\n",
    "\n",
    "ab = txt18.isspace()\n",
    "\n",
    "print(ab)"
   ]
  },
  {
   "cell_type": "code",
   "execution_count": 283,
   "id": "036ba9e3-41c3-4f7c-b72a-97bc91f6f43c",
   "metadata": {},
   "outputs": [
    {
     "name": "stdout",
     "output_type": "stream",
     "text": [
      "Foreign World\n"
     ]
    }
   ],
   "source": [
    "txt19 = \"Foreign world\"\n",
    "\n",
    "ac = txt19.title()\n",
    "\n",
    "print(ac)"
   ]
  },
  {
   "cell_type": "code",
   "execution_count": 295,
   "id": "e96280a4-f48d-4472-98a7-6373aab68f2f",
   "metadata": {},
   "outputs": [
    {
     "name": "stdout",
     "output_type": "stream",
     "text": [
      "Hello Ram!\n"
     ]
    }
   ],
   "source": [
    "mydict = {83:  82}\n",
    "\n",
    "txt20 = \"Hello Sam!\"\n",
    "\n",
    "print(txt20.translate(mydict))\n"
   ]
  },
  {
   "cell_type": "code",
   "execution_count": 297,
   "id": "d2218005-058e-44d2-8d6d-fcf67c25c3c8",
   "metadata": {},
   "outputs": [
    {
     "name": "stdout",
     "output_type": "stream",
     "text": [
      "FOREIGN WORLD\n"
     ]
    }
   ],
   "source": [
    "txt19 = \"Foreign world\"\n",
    "\n",
    "ad = txt19.upper()\n",
    "\n",
    "print(ad)"
   ]
  },
  {
   "cell_type": "code",
   "execution_count": 299,
   "id": "f63cd7df-35d2-4a57-8cd7-4576abc79810",
   "metadata": {},
   "outputs": [
    {
     "name": "stdout",
     "output_type": "stream",
     "text": [
      "0000000021\n"
     ]
    }
   ],
   "source": [
    "txt21 = \"21\"\n",
    "\n",
    "ae = txt21.zfill(10)\n",
    "\n",
    "print(ae)"
   ]
  }
 ],
 "metadata": {
  "kernelspec": {
   "display_name": "Python 3 (ipykernel)",
   "language": "python",
   "name": "python3"
  },
  "language_info": {
   "codemirror_mode": {
    "name": "ipython",
    "version": 3
   },
   "file_extension": ".py",
   "mimetype": "text/x-python",
   "name": "python",
   "nbconvert_exporter": "python",
   "pygments_lexer": "ipython3",
   "version": "3.11.7"
  }
 },
 "nbformat": 4,
 "nbformat_minor": 5
}
