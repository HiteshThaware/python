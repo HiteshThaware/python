{
 "cells": [
  {
   "cell_type": "markdown",
   "id": "6c825937-a3b6-4745-a045-8936e825c1d6",
   "metadata": {},
   "source": [
    "# Append"
   ]
  },
  {
   "cell_type": "code",
   "execution_count": 12,
   "id": "22d2eb76-8000-4db8-b0ab-2014a0bd2969",
   "metadata": {},
   "outputs": [
    {
     "name": "stdout",
     "output_type": "stream",
     "text": [
      "['apple', 'banana', 'cherry', 'guava']\n"
     ]
    }
   ],
   "source": [
    "fruits = ['apple', 'banana', 'cherry']\n",
    "fruits.append(\"guava\")\n",
    "print (fruits)"
   ]
  },
  {
   "cell_type": "markdown",
   "id": "a368b721-9673-4a68-903b-a58cdf511a70",
   "metadata": {},
   "source": [
    "# Clear"
   ]
  },
  {
   "cell_type": "code",
   "execution_count": 16,
   "id": "efe3b3a7-4a43-458e-aac0-97c75930f7df",
   "metadata": {},
   "outputs": [],
   "source": [
    "fruits = ['apple', 'banana', 'cherry', 'orange']\n",
    "\n",
    "fruits.clear()"
   ]
  },
  {
   "cell_type": "code",
   "execution_count": 20,
   "id": "354287bd-26dc-4401-ae92-af05aa21d6fe",
   "metadata": {},
   "outputs": [
    {
     "name": "stdout",
     "output_type": "stream",
     "text": [
      "[]\n"
     ]
    }
   ],
   "source": [
    "print (fruits)"
   ]
  },
  {
   "cell_type": "markdown",
   "id": "bc7624cf-ffe8-4cf8-8b2b-226e44a2d366",
   "metadata": {},
   "source": [
    "# Copy"
   ]
  },
  {
   "cell_type": "code",
   "execution_count": 27,
   "id": "b1335a85-f977-4bfa-98a3-97ca0321e5de",
   "metadata": {},
   "outputs": [
    {
     "name": "stdout",
     "output_type": "stream",
     "text": [
      "['orange', 'banana', 'pineapple', 'guava']\n"
     ]
    }
   ],
   "source": [
    "fruits = ['orange', 'banana', 'pineapple', 'guava']\n",
    "x= fruits.copy()\n",
    "print (x)"
   ]
  },
  {
   "cell_type": "markdown",
   "id": "21ef974b-77dc-4b3e-8a2b-0af2ce30db8d",
   "metadata": {},
   "source": [
    "# Count"
   ]
  },
  {
   "cell_type": "code",
   "execution_count": 33,
   "id": "cdbe5f6e-2687-40df-ac8a-2514b408a4b1",
   "metadata": {},
   "outputs": [
    {
     "name": "stdout",
     "output_type": "stream",
     "text": [
      "0\n"
     ]
    }
   ],
   "source": [
    "a = fruits.count(\"cherry\")\n",
    "\n",
    "print(a)"
   ]
  },
  {
   "cell_type": "code",
   "execution_count": 43,
   "id": "70fbdcc0-4b4f-4aff-bf35-ab9a9727d984",
   "metadata": {},
   "outputs": [
    {
     "name": "stdout",
     "output_type": "stream",
     "text": [
      "1\n"
     ]
    }
   ],
   "source": [
    "b = fruits.count(\"guava\")\n",
    "\n",
    "print(b)"
   ]
  },
  {
   "cell_type": "markdown",
   "id": "0091181f-2db0-4d76-8547-6526b94ca429",
   "metadata": {},
   "source": [
    "# Extend"
   ]
  },
  {
   "cell_type": "code",
   "execution_count": 46,
   "id": "617eedc9-5d65-4d21-9392-075c6acd4ca3",
   "metadata": {},
   "outputs": [
    {
     "name": "stdout",
     "output_type": "stream",
     "text": [
      "['apple', 'banana', 'cherry', 'mango', 'Ford', 'BMW', 'Volvo', 'tata']\n"
     ]
    }
   ],
   "source": [
    "fruits = ['apple', 'banana', 'cherry', 'mango']\n",
    "\n",
    "cars = ['Ford', 'BMW', 'Volvo', 'tata']\n",
    "\n",
    "fruits.extend(cars)\n",
    "\n",
    "print(fruits)"
   ]
  },
  {
   "cell_type": "markdown",
   "id": "a1f25f96-0641-41e4-aaeb-de00e30abdbb",
   "metadata": {},
   "source": [
    "# Index"
   ]
  },
  {
   "cell_type": "code",
   "execution_count": 13,
   "id": "68a5dbad-ba59-4258-8e84-7bab2dacd692",
   "metadata": {},
   "outputs": [
    {
     "name": "stdout",
     "output_type": "stream",
     "text": [
      "3\n"
     ]
    }
   ],
   "source": [
    "cars = ['tata', 'maruti', 'nissan', 'suzuki']\n",
    "\n",
    "a = cars.index(\"suzuki\")\n",
    "print (a)"
   ]
  },
  {
   "cell_type": "markdown",
   "id": "4209ea79-0287-4dcd-b029-c3e2d1044f5b",
   "metadata": {},
   "source": [
    "# Insert"
   ]
  },
  {
   "cell_type": "code",
   "execution_count": 31,
   "id": "a10157d9-e3c4-4f86-a948-dd8998512fe4",
   "metadata": {},
   "outputs": [
    {
     "name": "stdout",
     "output_type": "stream",
     "text": [
      "['moong', 'chana', 'tooar', 'lakhori', 'soyabeen']\n"
     ]
    }
   ],
   "source": [
    "grocery = ['moong', 'chana', 'tooar', 'lakhori']\n",
    "\n",
    "grocery.insert(4,\"soyabeen\")\n",
    "\n",
    "print (grocery)"
   ]
  },
  {
   "cell_type": "markdown",
   "id": "4e197b36-920a-40d2-be3f-d7fadda88df7",
   "metadata": {},
   "source": [
    "# Pop"
   ]
  },
  {
   "cell_type": "code",
   "execution_count": 46,
   "id": "c84076ed-3760-4a9a-abfc-b9ac3164465b",
   "metadata": {},
   "outputs": [
    {
     "data": {
      "text/plain": [
       "'lakhori'"
      ]
     },
     "execution_count": 46,
     "metadata": {},
     "output_type": "execute_result"
    }
   ],
   "source": [
    "fruits = ['apple', 'banana', 'cherry','moong', 'chana', 'tooar', 'lakhori']\n",
    "\n",
    "fruits.pop(6)"
   ]
  },
  {
   "cell_type": "markdown",
   "id": "b6e3d14e-24ed-48da-9db9-ba5de20cc081",
   "metadata": {},
   "source": [
    "# Remove"
   ]
  },
  {
   "cell_type": "code",
   "execution_count": 54,
   "id": "67dd9a6c-b224-4de8-97bd-1644614e8c7a",
   "metadata": {},
   "outputs": [
    {
     "name": "stdout",
     "output_type": "stream",
     "text": [
      "['apple', 'banana', 'moong', 'chana', 'tooar', 'lakhori']\n"
     ]
    }
   ],
   "source": [
    "fruits1 = ['apple', 'banana', 'cherry','moong', 'chana', 'tooar', 'lakhori']\n",
    "\n",
    "fruits1.remove('cherry')\n",
    "print (fruits1)"
   ]
  },
  {
   "cell_type": "markdown",
   "id": "967c3171-f672-4caa-bf6c-447de30fcf4d",
   "metadata": {},
   "source": [
    "# Reverse"
   ]
  },
  {
   "cell_type": "code",
   "execution_count": 60,
   "id": "de2b6490-6830-4945-afd7-e209cb7b5c41",
   "metadata": {},
   "outputs": [
    {
     "name": "stdout",
     "output_type": "stream",
     "text": [
      "['lakhori', 'tooar', 'chana', 'moong', 'cherry', 'banana', 'apple']\n"
     ]
    }
   ],
   "source": [
    "grocery = ['apple', 'banana', 'cherry','moong', 'chana', 'tooar', 'lakhori']\n",
    "\n",
    "grocery.reverse()\n",
    "print (grocery)"
   ]
  },
  {
   "cell_type": "markdown",
   "id": "6d079f4e-23c6-4dde-904c-955cee9d6b72",
   "metadata": {},
   "source": [
    "# Sort"
   ]
  },
  {
   "cell_type": "code",
   "execution_count": 64,
   "id": "82086ade-b84e-4dcd-ac20-8f97d79a723d",
   "metadata": {},
   "outputs": [
    {
     "name": "stdout",
     "output_type": "stream",
     "text": [
      "['apple', 'banana', 'chana', 'cherry', 'lakhori', 'moong', 'tooar']\n"
     ]
    }
   ],
   "source": [
    "grocery = ['apple', 'banana', 'cherry','moong', 'chana', 'tooar', 'lakhori']\n",
    "\n",
    "grocery.sort()\n",
    "print (grocery)"
   ]
  },
  {
   "cell_type": "markdown",
   "id": "5334c408-0456-4570-9730-e42d8cf21df3",
   "metadata": {},
   "source": [
    "# A function that returns the 'year' value:"
   ]
  },
  {
   "cell_type": "code",
   "execution_count": 67,
   "id": "d7c4ba85-8019-4963-93de-98acae361c09",
   "metadata": {},
   "outputs": [
    {
     "name": "stdout",
     "output_type": "stream",
     "text": [
      "[{'car': 'Mitsubishi', 'year': 2000}, {'car': 'Ford', 'year': 2005}, {'car': 'VW', 'year': 2011}, {'car': 'BMW', 'year': 2019}]\n"
     ]
    }
   ],
   "source": [
    "def myFunc(f):\n",
    "  return f['year']\n",
    "\n",
    "cars = [\n",
    "  {'car': 'Ford', 'year': 2005},\n",
    "  {'car': 'Mitsubishi', 'year': 2000},\n",
    "  {'car': 'BMW', 'year': 2019},\n",
    "  {'car': 'VW', 'year': 2011}\n",
    "]\n",
    "\n",
    "cars.sort(key=myFunc)\n",
    "\n",
    "print(cars)\n"
   ]
  },
  {
   "cell_type": "markdown",
   "id": "944a6995-fbc4-454e-85ac-22ffef2f8399",
   "metadata": {},
   "source": [
    "# A function that returns the length of the value:"
   ]
  },
  {
   "cell_type": "code",
   "execution_count": 76,
   "id": "bb3cad19-2ace-4064-8198-d479d17261fd",
   "metadata": {},
   "outputs": [
    {
     "name": "stdout",
     "output_type": "stream",
     "text": [
      "['Mitsubishi', 'Ford', 'BMW', 'VW']\n"
     ]
    }
   ],
   "source": [
    "def myFunc(e):\n",
    "  return len(e)\n",
    "\n",
    "cars = ['Ford', 'Mitsubishi', 'BMW', 'VW']\n",
    "\n",
    "cars.sort(reverse=True, key=myFunc)\n",
    "\n",
    "print(cars)"
   ]
  }
 ],
 "metadata": {
  "kernelspec": {
   "display_name": "Python 3 (ipykernel)",
   "language": "python",
   "name": "python3"
  },
  "language_info": {
   "codemirror_mode": {
    "name": "ipython",
    "version": 3
   },
   "file_extension": ".py",
   "mimetype": "text/x-python",
   "name": "python",
   "nbconvert_exporter": "python",
   "pygments_lexer": "ipython3",
   "version": "3.11.7"
  }
 },
 "nbformat": 4,
 "nbformat_minor": 5
}
