{
 "cells": [
  {
   "cell_type": "markdown",
   "id": "dc172d6e-bc81-4a31-953b-38dcbe5e503c",
   "metadata": {},
   "source": [
    "# Clear"
   ]
  },
  {
   "cell_type": "code",
   "execution_count": 15,
   "id": "058a7b79-84bc-425e-b1a2-c0d1340f91c5",
   "metadata": {},
   "outputs": [
    {
     "name": "stdout",
     "output_type": "stream",
     "text": [
      "{}\n"
     ]
    }
   ],
   "source": [
    "Machine = {\n",
    "  \"brand\": \"Hass CNC\",\n",
    "  \"model\": \"TMC-60\",\n",
    "  \"year\": 2012\n",
    "}\n",
    "\n",
    "Machine.clear()\n",
    "\n",
    "\n",
    "print(Machine)"
   ]
  },
  {
   "cell_type": "markdown",
   "id": "f9b2953a-781a-4ef7-9511-617dabe3fee4",
   "metadata": {},
   "source": [
    "# Copy"
   ]
  },
  {
   "cell_type": "code",
   "execution_count": 16,
   "id": "81959d19-0a72-40b1-9caf-ca83289e861a",
   "metadata": {},
   "outputs": [
    {
     "name": "stdout",
     "output_type": "stream",
     "text": [
      "{'make': 'Boeing', 'model': 'Boeing747', 'category': 'Passnger'}\n"
     ]
    }
   ],
   "source": [
    "Airplane ={ \n",
    "    \"make\" : \"Boeing\",\n",
    "    \"model\" : \"Boeing747\",\n",
    "    \"category\" : \"Passnger\"\n",
    "}\n",
    "\n",
    "p=Airplane.copy()\n",
    "print(p)\n",
    "\n",
    "    "
   ]
  },
  {
   "cell_type": "markdown",
   "id": "bba0e9c8-0ff7-4f75-93f4-9ae1ab1154a0",
   "metadata": {},
   "source": [
    "# Fromkeys"
   ]
  },
  {
   "cell_type": "code",
   "execution_count": 17,
   "id": "042e8827-18ce-4a18-a52b-78d2affbba46",
   "metadata": {},
   "outputs": [
    {
     "name": "stdout",
     "output_type": "stream",
     "text": [
      "{'abc': '0099', 'def': '0099', 'ghi': '0099', 'jkl': '0099'}\n"
     ]
    }
   ],
   "source": [
    "x= ('abc','def','ghi','jkl')\n",
    "y= ('0099')\n",
    "thisdict = dict.fromkeys(x,y)\n",
    "print(thisdict)"
   ]
  },
  {
   "cell_type": "code",
   "execution_count": 18,
   "id": "d84a5f4d-15b3-4113-a33d-80b5ec7e9a3e",
   "metadata": {},
   "outputs": [
    {
     "name": "stdout",
     "output_type": "stream",
     "text": [
      "{'key1': 0, 'key2': 0, 'key3': 0}\n"
     ]
    }
   ],
   "source": [
    "x = ('key1', 'key2', 'key3')\n",
    "y = 0\n",
    "\n",
    "thisdict = dict.fromkeys(x, y)\n",
    "\n",
    "print(thisdict)"
   ]
  },
  {
   "cell_type": "markdown",
   "id": "a012b7bc-463e-4058-a16d-2e5920c1d8fd",
   "metadata": {},
   "source": [
    "# GEt"
   ]
  },
  {
   "cell_type": "code",
   "execution_count": 19,
   "id": "b528d075-5b3a-4f0e-9428-a416a2ac292c",
   "metadata": {},
   "outputs": [
    {
     "name": "stdout",
     "output_type": "stream",
     "text": [
      "Suzuki\n",
      "{'Brand1': 'Toyota', 'Brand2': 'Suzuki', 'Brand3': 'Mitsubushi'}\n"
     ]
    }
   ],
   "source": [
    "japcars = {\n",
    "    \"Brand1\" : \"Toyota\",\n",
    "    \"Brand2\" : \"Suzuki\",\n",
    "    \"Brand3\" : \"Mitsubushi\"\n",
    "}\n",
    "jc = japcars.copy()\n",
    "\n",
    "y=jc.get(\"Brand2\")\n",
    "print(y)\n",
    "print(jc)"
   ]
  },
  {
   "cell_type": "markdown",
   "id": "d0b423ed-4da8-4cc6-b9b1-cafd733203c3",
   "metadata": {},
   "source": [
    "# Items"
   ]
  },
  {
   "cell_type": "code",
   "execution_count": 22,
   "id": "59ddf0fb-3c57-475f-9e42-fa6324e0a28f",
   "metadata": {},
   "outputs": [
    {
     "name": "stdout",
     "output_type": "stream",
     "text": [
      "dict_items([('brand', 'Honda'), ('model', 'CBX'), ('year', 2010)])\n",
      "dict_items([('Brand1', 'Toyota'), ('Brand2', 'Suzuki'), ('Brand3', 'Mitsubushi')])\n"
     ]
    }
   ],
   "source": [
    "bike = {\n",
    "  \"brand\": \"Honda\",\n",
    "  \"model\": \"CBX\",\n",
    "  \"year\": 2010\n",
    "}\n",
    "\n",
    "x = bike.items()\n",
    "y = japcars.items()\n",
    "print(x)\n",
    "print(y)"
   ]
  },
  {
   "cell_type": "markdown",
   "id": "8057f12c-e83f-41d3-80c7-dedaf1117f36",
   "metadata": {},
   "source": [
    "# keys"
   ]
  },
  {
   "cell_type": "code",
   "execution_count": 23,
   "id": "38748638-5992-4f24-8305-7c0bb5fc19b1",
   "metadata": {},
   "outputs": [
    {
     "name": "stdout",
     "output_type": "stream",
     "text": [
      "dict_keys(['brand', 'model', 'year'])\n"
     ]
    }
   ],
   "source": [
    "bike = {\n",
    "  \"brand\": \"Honda\",\n",
    "  \"model\": \"CBX\",\n",
    "  \"year\": 2010\n",
    "}\n",
    "\n",
    "x = bike.keys()\n",
    "print(x)"
   ]
  },
  {
   "cell_type": "markdown",
   "id": "ef611ad1",
   "metadata": {},
   "source": [
    "# pop"
   ]
  },
  {
   "cell_type": "code",
   "execution_count": 24,
   "id": "497ffcf0-5440-4639-ab37-3ec78a270001",
   "metadata": {},
   "outputs": [
    {
     "name": "stdout",
     "output_type": "stream",
     "text": [
      "CBX\n",
      "{'brand': 'Honda', 'year': 2010}\n"
     ]
    }
   ],
   "source": [
    "bike = {\n",
    "  \"brand\": \"Honda\",\n",
    "  \"model\": \"CBX\",\n",
    "  \"year\": 2010\n",
    "}\n",
    "\n",
    "xk = bike.pop(\"model\")\n",
    "print(xk)\n",
    "print(bike)"
   ]
  },
  {
   "cell_type": "markdown",
   "id": "618bf961",
   "metadata": {},
   "source": [
    "# popitem"
   ]
  },
  {
   "cell_type": "code",
   "execution_count": 25,
   "id": "4e896c28",
   "metadata": {},
   "outputs": [
    {
     "name": "stdout",
     "output_type": "stream",
     "text": [
      "{'Brand1': 'Toyota', 'Brand2': 'Suzuki'}\n"
     ]
    }
   ],
   "source": [
    "japcars = {\n",
    "    \"Brand1\" : \"Toyota\",\n",
    "    \"Brand2\" : \"Suzuki\",\n",
    "    \"Brand3\" : \"Mitsubushi\"\n",
    "}\n",
    "japcars.popitem()\n",
    "\n",
    "print(japcars)"
   ]
  },
  {
   "cell_type": "markdown",
   "id": "fc28a0b4",
   "metadata": {},
   "source": [
    "# setdefault"
   ]
  },
  {
   "cell_type": "code",
   "execution_count": 26,
   "id": "dccfcfc1",
   "metadata": {},
   "outputs": [
    {
     "name": "stdout",
     "output_type": "stream",
     "text": [
      "munich\n"
     ]
    }
   ],
   "source": [
    "city = {\n",
    "  \"country\": \"Switzerland\",\n",
    "  \"city\": \"munich\",\n",
    "  \"year\": 2024\n",
    "}\n",
    "\n",
    "x = city.setdefault(\"city\",\"Bronco\")\n",
    "\n",
    "print(x)"
   ]
  },
  {
   "cell_type": "code",
   "execution_count": 27,
   "id": "111af900",
   "metadata": {},
   "outputs": [
    {
     "name": "stdout",
     "output_type": "stream",
     "text": [
      "Bronco\n"
     ]
    }
   ],
   "source": [
    "city = {\n",
    "  \"country\": \"Switzerland\",\n",
    "  \"city\": \"munich\",\n",
    "  \"year\": 2024\n",
    "}\n",
    "\n",
    "x = city.setdefault(\"ckk\",\"Bronco\")\n",
    "\n",
    "print(x)"
   ]
  },
  {
   "cell_type": "markdown",
   "id": "fcb0f8c6",
   "metadata": {},
   "source": [
    "# update"
   ]
  },
  {
   "cell_type": "code",
   "execution_count": 28,
   "id": "95b01eb8",
   "metadata": {},
   "outputs": [
    {
     "name": "stdout",
     "output_type": "stream",
     "text": [
      "{'country': 'Switzerland', 'city1': 'Bronco', 'year': 2024}\n"
     ]
    }
   ],
   "source": [
    "city = {\n",
    "  \"country\": \"Switzerland\",\n",
    "  \"city1\": \"munich\",\n",
    "  \"year\": 2024\n",
    "}\n",
    "\n",
    "city.update({\"city1\":\"Bronco\"})\n",
    "\n",
    "print(city)"
   ]
  },
  {
   "cell_type": "code",
   "execution_count": 29,
   "id": "bb3cabd8",
   "metadata": {},
   "outputs": [
    {
     "name": "stdout",
     "output_type": "stream",
     "text": [
      "{'country': 'Switzerland', 'city': 'munich', 'year': 2024, 'type': 'capital'}\n"
     ]
    }
   ],
   "source": [
    "city = {\n",
    "  \"country\": \"Switzerland\",\n",
    "  \"city\": \"munich\",\n",
    "  \"year\": 2024\n",
    "}\n",
    "\n",
    "city.update({\"type\":\"capital\"})\n",
    "\n",
    "print(city)"
   ]
  },
  {
   "cell_type": "markdown",
   "id": "b4660751",
   "metadata": {},
   "source": [
    "# values"
   ]
  },
  {
   "cell_type": "code",
   "execution_count": 31,
   "id": "933f0cf7",
   "metadata": {},
   "outputs": [
    {
     "name": "stdout",
     "output_type": "stream",
     "text": [
      "{'country': 'Switzerland', 'city': 'munich', 'year': 2024}\n"
     ]
    }
   ],
   "source": [
    "city = {\n",
    "  \"country\": \"Switzerland\",\n",
    "  \"city\": \"munich\",\n",
    "  \"year\": 2024\n",
    "}\n",
    "\n",
    "city.values()\n",
    "\n",
    "print(city)"
   ]
  }
 ],
 "metadata": {
  "kernelspec": {
   "display_name": "Python 3 (ipykernel)",
   "language": "python",
   "name": "python3"
  },
  "language_info": {
   "codemirror_mode": {
    "name": "ipython",
    "version": 3
   },
   "file_extension": ".py",
   "mimetype": "text/x-python",
   "name": "python",
   "nbconvert_exporter": "python",
   "pygments_lexer": "ipython3",
   "version": "3.12.3"
  }
 },
 "nbformat": 4,
 "nbformat_minor": 5
}
